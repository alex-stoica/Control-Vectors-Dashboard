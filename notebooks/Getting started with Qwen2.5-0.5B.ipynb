{
 "cells": [
  {
   "cell_type": "markdown",
   "id": "27040b68-a393-4c96-b73b-68bcaccba9e4",
   "metadata": {},
   "source": [
    "# Getting Started with Qwen2.5-0.5B\n",
    "\n",
    "This notebook provides a tutorial on working with the Qwen2.5-0.5B model from Hugging Face's Transformers library. Qwen2.5 is the latest series of large language models developed by the Qwen team.\n",
    "\n",
    "## What we'll cover:\n",
    "- Introduction to Qwen2.5 models\n",
    "- Loading the model and tokenizer\n",
    "- Exploring model architecture\n",
    "- Basic text generation\n",
    "- Examining model layers and parameters"
   ]
  },
  {
   "cell_type": "markdown",
   "id": "cb574ad1-73b0-405e-8965-3ccaa51fe889",
   "metadata": {},
   "source": [
    "## Qwen2.5 Model Overview\n",
    "\n",
    "Qwen2.5 is the latest series of large language models from the Qwen team. Key features include:\n",
    "\n",
    "- Range of model sizes from 0.5B to 72B parameters (we're using the 0.5B version)\n",
    "- Based on a transformer architecture with RoPE (Rotary Position Embedding), SwiGLU activation, RMSNorm, and Attention QKV bias\n",
    "- Grouped Query Attention (GQA) with 14 query heads and 2 key/value heads\n",
    "- Support for up to 32,768 tokens context length (base model)\n",
    "- Improved capabilities in coding, mathematics, and structured data handling\n",
    "- Support for 29+ languages including Chinese, English, French, Spanish, and more\n",
    "\n",
    "For more information, refer to the [Qwen GitHub repository](https://github.com/QwenLM/Qwen) and [Hugging Face model page](https://huggingface.co/Qwen/Qwen2.5-0.5B)."
   ]
  },
  {
   "cell_type": "code",
   "execution_count": 1,
   "id": "47bbc41c-c94a-43df-8f87-c7ed9cc87f33",
   "metadata": {},
   "outputs": [
    {
     "name": "stdout",
     "output_type": "stream",
     "text": [
      "PyTorch version: 2.6.0+cu126\n",
      "CUDA available: True\n",
      "CUDA version: 12.6\n",
      "GPU: NVIDIA GeForce RTX 4060 Laptop GPU\n"
     ]
    }
   ],
   "source": [
    "import os\n",
    "os.environ['KMP_DUPLICATE_LIB_OK'] = 'TRUE' # in case of any OpenMP Library conflict\n",
    "\n",
    "import torch\n",
    "from transformers import AutoModelForCausalLM, AutoTokenizer\n",
    "import matplotlib.pyplot as plt\n",
    "import numpy as np\n",
    "import pandas as pd\n",
    "import seaborn as sns\n",
    "from IPython.display import display, HTML\n",
    "\n",
    "plt.style.use('ggplot')\n",
    "sns.set(style=\"whitegrid\")\n",
    "\n",
    "print(f\"PyTorch version: {torch.__version__}\")\n",
    "print(f\"CUDA available: {torch.cuda.is_available()}\")\n",
    "if torch.cuda.is_available():\n",
    "    print(f\"CUDA version: {torch.version.cuda}\")\n",
    "    print(f\"GPU: {torch.cuda.get_device_name(0)}\")"
   ]
  },
  {
   "cell_type": "markdown",
   "id": "976db389-dbba-40dd-9e38-75a176d2af76",
   "metadata": {},
   "source": [
    "## Loading the Model and Tokenizer\n",
    "\n",
    "Let's start by loading the Qwen2.5-0.5B model and its associated tokenizer. The model will be loaded with `AutoModelForCausalLM` and the tokenizer with `AutoTokenizer`.\n",
    "\n",
    "### Note:\n",
    "- We'll use `device_map=\"auto\"` to automatically place the model on the appropriate device (GPU/CPU)]\n",
    "- Qwen2.5 models require transformers>=4.37.0"
   ]
  },
  {
   "cell_type": "code",
   "execution_count": 2,
   "id": "8d446428-41f1-419d-b02d-62fa6dd563db",
   "metadata": {},
   "outputs": [
    {
     "name": "stderr",
     "output_type": "stream",
     "text": [
      "Sliding Window Attention is enabled but not implemented for `sdpa`; unexpected results may be encountered.\n"
     ]
    },
    {
     "name": "stdout",
     "output_type": "stream",
     "text": [
      "Model loaded: Qwen/Qwen2.5-0.5B\n",
      "Model type: Qwen2ForCausalLM\n",
      "Tokenizer type: Qwen2TokenizerFast\n"
     ]
    }
   ],
   "source": [
    "model_name = \"Qwen/Qwen2.5-0.5B\"\n",
    "tokenizer = AutoTokenizer.from_pretrained(model_name)\n",
    "\n",
    "# Setting device_map to \"auto\" will use GPU if available\n",
    "model = AutoModelForCausalLM.from_pretrained(\n",
    "    model_name,\n",
    "    torch_dtype=torch.float32, \n",
    "    device_map=\"auto\"\n",
    ")\n",
    "\n",
    "print(f\"Model loaded: {model_name}\")\n",
    "print(f\"Model type: {type(model).__name__}\")\n",
    "print(f\"Tokenizer type: {type(tokenizer).__name__}\")"
   ]
  },
  {
   "cell_type": "markdown",
   "id": "a49719cf-721f-4b0b-b22d-8e6b7f3b5086",
   "metadata": {},
   "source": [
    "## Exploring the Model Architecture\n",
    "\n",
    "Let's examine the architecture of the Qwen2.5-0.5B model. We'll look at:\n",
    "1. The overall model structure\n",
    "2. Configuration parameters \n",
    "3. Key components (embeddings, attention layers, etc.)\n",
    "\n",
    "Qwen2.5-0.5B has several notable architectural features:\n",
    "- 24 transformer layers\n",
    "- Grouped Query Attention (GQA) with 14 query heads and 2 key/value heads\n",
    "- Total parameters: 0.49B (490M), with 0.36B (360M) non-embedding parameters"
   ]
  },
  {
   "cell_type": "code",
   "execution_count": 3,
   "id": "1dda9719-0e8f-4c7a-a288-bacfaea8c9f7",
   "metadata": {},
   "outputs": [
    {
     "name": "stdout",
     "output_type": "stream",
     "text": [
      "Model size: 494.03 million parameters\n",
      "Vocabulary size: 151936\n",
      "Hidden size: 896\n",
      "Number of layers: 24\n",
      "Number of attention heads: 14\n",
      "Number of KV heads: 2\n",
      "Maximum sequence length: 32768\n",
      "\n",
      "Full model configuration:\n",
      "Qwen2Config {\n",
      "  \"_attn_implementation_autoset\": true,\n",
      "  \"_name_or_path\": \"Qwen/Qwen2.5-0.5B\",\n",
      "  \"architectures\": [\n",
      "    \"Qwen2ForCausalLM\"\n",
      "  ],\n",
      "  \"attention_dropout\": 0.0,\n",
      "  \"bos_token_id\": 151643,\n",
      "  \"eos_token_id\": 151643,\n",
      "  \"hidden_act\": \"silu\",\n",
      "  \"hidden_size\": 896,\n",
      "  \"initializer_range\": 0.02,\n",
      "  \"intermediate_size\": 4864,\n",
      "  \"max_position_embeddings\": 32768,\n",
      "  \"max_window_layers\": 24,\n",
      "  \"model_type\": \"qwen2\",\n",
      "  \"num_attention_heads\": 14,\n",
      "  \"num_hidden_layers\": 24,\n",
      "  \"num_key_value_heads\": 2,\n",
      "  \"rms_norm_eps\": 1e-06,\n",
      "  \"rope_scaling\": null,\n",
      "  \"rope_theta\": 1000000.0,\n",
      "  \"sliding_window\": 32768,\n",
      "  \"tie_word_embeddings\": true,\n",
      "  \"torch_dtype\": \"float32\",\n",
      "  \"transformers_version\": \"4.49.0\",\n",
      "  \"use_cache\": true,\n",
      "  \"use_mrope\": false,\n",
      "  \"use_sliding_window\": false,\n",
      "  \"vocab_size\": 151936\n",
      "}\n",
      "\n"
     ]
    }
   ],
   "source": [
    "model_config = model.config\n",
    "\n",
    "print(f\"Model size: {sum(p.numel() for p in model.parameters())/1e6:.2f} million parameters\")\n",
    "print(f\"Vocabulary size: {model_config.vocab_size}\")\n",
    "print(f\"Hidden size: {model_config.hidden_size}\")\n",
    "print(f\"Number of layers: {model_config.num_hidden_layers}\")\n",
    "print(f\"Number of attention heads: {model_config.num_attention_heads}\")\n",
    "print(f\"Number of KV heads: {model_config.num_key_value_heads}\")\n",
    "print(f\"Maximum sequence length: {model_config.max_position_embeddings}\")\n",
    "\n",
    "print(\"\\nFull model configuration:\")\n",
    "print(model_config)"
   ]
  },
  {
   "cell_type": "code",
   "execution_count": 4,
   "id": "81df1c17-b6be-4987-94c6-d2a7b7f528c3",
   "metadata": {},
   "outputs": [
    {
     "name": "stdout",
     "output_type": "stream",
     "text": [
      "Model Hierarchy (major components):\n",
      "├─ model: Qwen2Model (494.03M params)\n",
      "  ├─ embed_tokens: Embedding (136.13M params)\n",
      "  ├─ layers: ModuleList (357.90M params)\n",
      "    ├─ 0: Qwen2DecoderLayer (14.91M params)\n",
      "    ├─ 1: Qwen2DecoderLayer (14.91M params)\n",
      "    ├─ 2: Qwen2DecoderLayer (14.91M params)\n",
      "    ├─ 3: Qwen2DecoderLayer (14.91M params)\n",
      "    ├─ 4: Qwen2DecoderLayer (14.91M params)\n",
      "    ├─ 5: Qwen2DecoderLayer (14.91M params)\n",
      "    ├─ 6: Qwen2DecoderLayer (14.91M params)\n",
      "    ├─ 7: Qwen2DecoderLayer (14.91M params)\n",
      "    ├─ 8: Qwen2DecoderLayer (14.91M params)\n",
      "    ├─ 9: Qwen2DecoderLayer (14.91M params)\n",
      "    ├─ 10: Qwen2DecoderLayer (14.91M params)\n",
      "    ├─ 11: Qwen2DecoderLayer (14.91M params)\n",
      "    ├─ 12: Qwen2DecoderLayer (14.91M params)\n",
      "    ├─ 13: Qwen2DecoderLayer (14.91M params)\n",
      "    ├─ 14: Qwen2DecoderLayer (14.91M params)\n",
      "    ├─ 15: Qwen2DecoderLayer (14.91M params)\n",
      "    ├─ 16: Qwen2DecoderLayer (14.91M params)\n",
      "    ├─ 17: Qwen2DecoderLayer (14.91M params)\n",
      "    ├─ 18: Qwen2DecoderLayer (14.91M params)\n",
      "    ├─ 19: Qwen2DecoderLayer (14.91M params)\n",
      "    ├─ 20: Qwen2DecoderLayer (14.91M params)\n",
      "    ├─ 21: Qwen2DecoderLayer (14.91M params)\n",
      "    ├─ 22: Qwen2DecoderLayer (14.91M params)\n",
      "    ├─ 23: Qwen2DecoderLayer (14.91M params)\n",
      "  ├─ norm: Qwen2RMSNorm (0.00M params)\n",
      "  ├─ rotary_emb: Qwen2RotaryEmbedding (0.00M params)\n",
      "├─ lm_head: Linear (136.13M params)\n"
     ]
    }
   ],
   "source": [
    "def visualize_model_hierarchy(model, depth=0, max_depth=2):\n",
    "    result = []\n",
    "    prefix = \"  \" * depth\n",
    "    \n",
    "    for name, child in model.named_children():\n",
    "        param_count = sum(p.numel() for p in child.parameters())\n",
    "        result.append(f\"{prefix}├─ {name}: {type(child).__name__} ({param_count/1e6:.2f}M params)\")\n",
    "        \n",
    "        if depth < max_depth:\n",
    "            child_result = visualize_model_hierarchy(child, depth + 1, max_depth)\n",
    "            result.extend(child_result)\n",
    "    \n",
    "    return result\n",
    "    \n",
    "hierarchy = visualize_model_hierarchy(model)\n",
    "\n",
    "print(\"Model Hierarchy (major components):\")\n",
    "for line in hierarchy:\n",
    "    print(line)"
   ]
  },
  {
   "cell_type": "markdown",
   "id": "32aa3cf8-9500-4be7-9b75-6431e910d672",
   "metadata": {},
   "source": [
    "## Examining Specific Model Layers\n",
    "\n",
    "Let's take a closer look at some of the key components of the Qwen2.5-0.5B model:\n",
    "1. Token embeddings\n",
    "2. Grouped Query Attention (GQA) mechanism\n",
    "3. Feed-forward networks with SwiGLU activation\n",
    "\n",
    "The model follows the standard transformer decoder architecture with several enhancements:\n",
    "- Word (token) embeddings\n",
    "- Rotary Position Embeddings (RoPE) for positional encoding\n",
    "- Grouped Query Attention (14 query heads, 2 key/value heads)\n",
    "- Feed-forward networks with SwiGLU activation\n",
    "- RMSNorm for layer normalization"
   ]
  },
  {
   "cell_type": "code",
   "execution_count": 5,
   "id": "7a2d4833-d71e-4182-b3a6-20f0b8ff5fae",
   "metadata": {},
   "outputs": [
    {
     "name": "stdout",
     "output_type": "stream",
     "text": [
      "Embedding layer shape: torch.Size([151936, 896])\n",
      "Embedding dimension: 896\n",
      "\n",
      "Attention in first layer:\n",
      "Attention configuration from model config:\n",
      "Number of Q heads: 14\n",
      "Number of KV heads: 2\n",
      "Head dimension: 64\n",
      "Grouped Query Attention ratio: 7.0\n",
      "\n",
      "Output layer shape: torch.Size([151936, 896])\n",
      "\n",
      "Feed-forward network in first layer:\n",
      "Input dimension: 896\n",
      "Hidden dimension: 4864\n",
      "Output dimension: 896\n"
     ]
    }
   ],
   "source": [
    "# 1. Embeddings\n",
    "embed_layer = model.model.embed_tokens\n",
    "print(f\"Embedding layer shape: {embed_layer.weight.shape}\")\n",
    "print(f\"Embedding dimension: {embed_layer.weight.shape[1]}\")\n",
    "\n",
    "# 2. First and last decoder layers\n",
    "first_layer = model.model.layers[0]\n",
    "last_layer = model.model.layers[-1]\n",
    "\n",
    "print(\"\\nAttention in first layer:\")\n",
    "# Let's check the attributes available in the attention mechanism\n",
    "attention_attributes = dir(first_layer.self_attn)\n",
    "print(f\"Attention configuration from model config:\")\n",
    "print(f\"Number of Q heads: {model_config.num_attention_heads}\")\n",
    "print(f\"Number of KV heads: {model_config.num_key_value_heads}\")\n",
    "print(f\"Head dimension: {model_config.hidden_size // model_config.num_attention_heads}\")\n",
    "print(f\"Grouped Query Attention ratio: {model_config.num_attention_heads / model_config.num_key_value_heads}\")\n",
    "\n",
    "# 3. Output projection\n",
    "output_layer = model.lm_head\n",
    "print(f\"\\nOutput layer shape: {output_layer.weight.shape}\")\n",
    "\n",
    "# 4. Feed-forward network in first layer\n",
    "print(\"\\nFeed-forward network in first layer:\")\n",
    "print(f\"Input dimension: {first_layer.mlp.gate_proj.weight.shape[1]}\")\n",
    "print(f\"Hidden dimension: {first_layer.mlp.gate_proj.weight.shape[0]}\")\n",
    "print(f\"Output dimension: {first_layer.mlp.down_proj.weight.shape[0]}\")"
   ]
  },
  {
   "cell_type": "markdown",
   "id": "45dbba29-3798-4e28-b2d9-8c8240457c59",
   "metadata": {},
   "source": [
    "## Basic Text Generation\n",
    "\n",
    "Now let's try using the model for text generation. We'll provide a prompt and have the model generate a continuation.\n",
    "\n",
    "Note that the Qwen2.5-0.5B base model is not instruction-tuned, so it's better for completion tasks rather than instruction following."
   ]
  },
  {
   "cell_type": "code",
   "execution_count": 6,
   "id": "4fe1b6cd-e379-4ca1-9f2b-79a2080cbfc2",
   "metadata": {},
   "outputs": [
    {
     "name": "stderr",
     "output_type": "stream",
     "text": [
      "Setting `pad_token_id` to `eos_token_id`:151643 for open-end generation.\n"
     ]
    },
    {
     "name": "stdout",
     "output_type": "stream",
     "text": [
      "Note: This is the base model which is designed for text completion, not instruction-following.\n",
      "For better responses to prompts, use the instruction-tuned version: Qwen/Qwen2.5-0.5B-Chat\n",
      "\n",
      "\n",
      "Prompt: The future of artificial intelligence is\n"
     ]
    },
    {
     "data": {
      "text/html": [
       "<div style='background:#f5f5f5; padding:10px; border-radius:5px;'><b>The future of artificial intelligence is</b> in a race to get better at making sense of the data we collect. That’s what researchers are focusing on right now, but they also have to contend with issues like privacy and bias.\n",
       "As an AI expert, I’m especially excited about these issues because they’re important to me as well. But I’m also concerned that we don’t have enough research on how to make things more fair. And that’s something I want to address today.\n",
       "We’ll start by talking about what it means for us to collect information about our lives, and then turn to some examples from my own work. (If you’re not familiar with my research, see this post.) Afterward, we can talk about some ways we could do better.\n",
       "It’s easy to</div>"
      ],
      "text/plain": [
       "<IPython.core.display.HTML object>"
      ]
     },
     "metadata": {},
     "output_type": "display_data"
    },
    {
     "name": "stderr",
     "output_type": "stream",
     "text": [
      "Setting `pad_token_id` to `eos_token_id`:151643 for open-end generation.\n"
     ]
    },
    {
     "name": "stdout",
     "output_type": "stream",
     "text": [
      "--------------------------------------------------------------------------------\n",
      "\n",
      "Prompt: A simple recipe for chocolate cake includes\n"
     ]
    },
    {
     "data": {
      "text/html": [
       "<div style='background:#f5f5f5; padding:10px; border-radius:5px;'><b>A simple recipe for chocolate cake includes</b> 4 cups of flour, 2 cups of sugar, and 1 cup of cocoa powder. If the recipe calls for an additional ingredient that is half the amount of sugar as usual but contains twice as much cocoa powder as usual, how many cups of this new ingredient are needed in total?\n",
       "\n",
       "To determine the total number of cups of the new ingredient needed, we start by identifying the quantities of each ingredient in the original recipe.\n",
       "\n",
       "The original recipe requires:\n",
       "- 4 cups of flour\n",
       "- 2 cups of sugar\n",
       "- 1 cup of cocoa powder\n",
       "\n",
       "According to the problem, the recipe now needs:\n",
       "- Half the amount of sugar as usual: \\(\\frac{2}{2} = 1\\) cup of sugar\n",
       "- Twice</div>"
      ],
      "text/plain": [
       "<IPython.core.display.HTML object>"
      ]
     },
     "metadata": {},
     "output_type": "display_data"
    },
    {
     "name": "stderr",
     "output_type": "stream",
     "text": [
      "Setting `pad_token_id` to `eos_token_id`:151643 for open-end generation.\n"
     ]
    },
    {
     "name": "stdout",
     "output_type": "stream",
     "text": [
      "--------------------------------------------------------------------------------\n",
      "\n",
      "Prompt: The best way to learn programming is\n"
     ]
    },
    {
     "data": {
      "text/html": [
       "<div style='background:#f5f5f5; padding:10px; border-radius:5px;'><b>The best way to learn programming is</b> by doing it. But if you're struggling with the basics, there are some simple steps you can follow to get started.\n",
       "\n",
       "1. Understand the Basics: The first step in learning programming is to have a good understanding of the fundamental concepts and syntax. This includes learning about variables, data types, control structures (loops and conditional statements), functions, and object-oriented programming principles.\n",
       "\n",
       "2. Start Small: Begin with simple programs that involve small tasks or problems. This will help you build confidence and gradually move on to more complex projects as your skills improve.\n",
       "\n",
       "3. Practice Coding: To master programming, practice coding regularly. Create code snippets for different scenarios, test them thoroughly, and correct any errors you find.\n",
       "\n",
       "4. Use Resources: Utilize online resources</div>"
      ],
      "text/plain": [
       "<IPython.core.display.HTML object>"
      ]
     },
     "metadata": {},
     "output_type": "display_data"
    },
    {
     "name": "stdout",
     "output_type": "stream",
     "text": [
      "--------------------------------------------------------------------------------\n"
     ]
    }
   ],
   "source": [
    "def generate_text(prompt, max_new_tokens=150):\n",
    "    \"\"\"Generate text from a prompt.\"\"\"\n",
    "    inputs = tokenizer(prompt, return_tensors=\"pt\").to(model.device)\n",
    "    with torch.no_grad():\n",
    "        outputs = model.generate(\n",
    "            **inputs,\n",
    "            max_new_tokens=max_new_tokens,\n",
    "            do_sample=True,\n",
    "            temperature=0.7,\n",
    "            top_p=0.9,\n",
    "            repetition_penalty=1.1\n",
    "        )\n",
    "    \n",
    "    # Decode the generated text\n",
    "    generated_text = tokenizer.decode(outputs[0], skip_special_tokens=True)\n",
    "    \n",
    "    # Format for display\n",
    "    highlighted_text = generated_text.replace(prompt, f\"<b>{prompt}</b>\")\n",
    "    return highlighted_text\n",
    "\n",
    "print(\"Note: This is the base model which is designed for text completion, not instruction-following.\")\n",
    "print(\"For better responses to prompts, use the instruction-tuned version: Qwen/Qwen2.5-0.5B-Chat\\n\")\n",
    "\n",
    "prompts = [\n",
    "    \"The future of artificial intelligence is\",\n",
    "    \"A simple recipe for chocolate cake includes\",\n",
    "    \"The best way to learn programming is\"\n",
    "]\n",
    "\n",
    "for prompt in prompts:\n",
    "    print(f\"\\nPrompt: {prompt}\")\n",
    "    generated = generate_text(prompt)\n",
    "    display(HTML(f\"<div style='background:#f5f5f5; padding:10px; border-radius:5px;'>{generated}</div>\"))\n",
    "    print(\"-\" * 80)"
   ]
  },
  {
   "cell_type": "markdown",
   "id": "b645203d-7aea-497f-9d52-731422db9111",
   "metadata": {},
   "source": [
    "## Exploring Grouped Query Attention (GQA)\n",
    "\n",
    "Qwen2.5-0.5B uses Grouped Query Attention (GQA), which significantly reduces computational costs while maintaining model quality.\n",
    "\n",
    "In Grouped Query Attention:\n",
    "- Multiple query heads share a single key-value head\n",
    "- Qwen2.5-0.5B has 14 query heads but only 2 key-value heads\n",
    "- This means each key-value head is shared across 7 query heads (14/2 = 7)\n",
    "- This reduces memory usage during inference by ~30% with minimal quality impact\n",
    "\n",
    "Let's look at how this architecture is implemented in the model."
   ]
  },
  {
   "cell_type": "code",
   "execution_count": 7,
   "id": "f579899d-2648-43c3-8a96-6cd1e9d45c6e",
   "metadata": {},
   "outputs": [
    {
     "name": "stdout",
     "output_type": "stream",
     "text": [
      "Query projection shape: torch.Size([896, 896])\n",
      "Key projection shape: torch.Size([128, 896])\n",
      "Value projection shape: torch.Size([128, 896])\n",
      "\n",
      "Ratio of Q projection size to K projection size: 7.0\n",
      "This confirms the 14:2 ratio of query heads to key-value heads\n",
      "\n",
      "Approximate memory savings for KV cache: 85.7%\n",
      "This is a significant improvement, especially for long context generation!\n"
     ]
    },
    {
     "data": {
      "image/png": "[encoded data removed]",
      "text/plain": [
       "<Figure size 1000x500 with 1 Axes>"
      ]
     },
     "metadata": {},
     "output_type": "display_data"
    }
   ],
   "source": [
    "first_layer = model.model.layers[0]\n",
    "\n",
    "# Look at the query, key, and value projection matrices\n",
    "q_proj = first_layer.self_attn.q_proj\n",
    "k_proj = first_layer.self_attn.k_proj\n",
    "v_proj = first_layer.self_attn.v_proj\n",
    "\n",
    "print(f\"Query projection shape: {q_proj.weight.shape}\")\n",
    "print(f\"Key projection shape: {k_proj.weight.shape}\")\n",
    "print(f\"Value projection shape: {v_proj.weight.shape}\")\n",
    "\n",
    "# Calculate the ratio\n",
    "q_size = q_proj.weight.shape[0]\n",
    "k_size = k_proj.weight.shape[0]\n",
    "ratio = q_size / k_size\n",
    "\n",
    "print(f\"\\nRatio of Q projection size to K projection size: {ratio:.1f}\")\n",
    "print(f\"This confirms the {model_config.num_attention_heads}:{model_config.num_key_value_heads} ratio of query heads to key-value heads\")\n",
    "\n",
    "# Visualize the memory savings\n",
    "kv_heads_if_standard = model_config.num_attention_heads * 2  # K and V for each head\n",
    "kv_heads_with_gqa = model_config.num_key_value_heads * 2     # K and V for each KV head\n",
    "\n",
    "memory_savings_percent = (1 - kv_heads_with_gqa / kv_heads_if_standard) * 100\n",
    "\n",
    "print(f\"\\nApproximate memory savings for KV cache: {memory_savings_percent:.1f}%\")\n",
    "print(\"This is a significant improvement, especially for long context generation!\")\n",
    "\n",
    "# Create a bar chart to visualize the difference\n",
    "labels = ['Standard Attention', 'Grouped Query Attention']\n",
    "kv_counts = [kv_heads_if_standard, kv_heads_with_gqa]\n",
    "\n",
    "plt.figure(figsize=(10, 5))\n",
    "bars = plt.bar(labels, kv_counts, color=['#ff9999', '#66b3ff'])\n",
    "plt.ylabel('Number of Key-Value Heads')\n",
    "plt.title('Memory Efficiency of Grouped Query Attention')\n",
    "\n",
    "# Add values on top of the bars\n",
    "for bar in bars:\n",
    "    height = bar.get_height()\n",
    "    plt.text(bar.get_x() + bar.get_width()/2., height + 0.1,\n",
    "             f'{height:.0f}', ha='center', va='bottom')\n",
    "\n",
    "plt.tight_layout()\n",
    "plt.show()"
   ]
  },
  {
   "cell_type": "markdown",
   "id": "45c4004c-ae65-4b67-9d86-e2aabd6f05d1",
   "metadata": {},
   "source": [
    "## Introduction to Steering Vectors with Qwen2.5\n",
    "\n",
    "Steering vectors are a technique to guide language model generation by manipulating the activation patterns in the model. They can be used to control the style, tone, or content domain of the generated text.\n",
    "\n",
    "Basic steps for creating and using a steering vector:\n",
    "1. Generate embeddings for examples in your target category (e.g., \"technical writing\")\n",
    "2. Generate embeddings for examples in a contrasting category (e.g., \"creative writing\") \n",
    "3. Calculate the difference vector, which represents the \"direction\" from one category to another\n",
    "4. During generation, add this vector (scaled by a strength parameter) to manipulate the output\n",
    "\n",
    "Let's implement a basic version of this technique with Qwen2.5-0.5B."
   ]
  },
  {
   "cell_type": "code",
   "execution_count": 8,
   "id": "65acff73-0b57-4717-872e-040b2e985713",
   "metadata": {},
   "outputs": [
    {
     "name": "stdout",
     "output_type": "stream",
     "text": [
      "Formal-Informal steering vector shape: torch.Size([896])\n",
      "Technical-Creative steering vector shape: torch.Size([896])\n",
      "\n",
      "Cosine similarity between vectors: 0.4514\n",
      "A value close to 1 would mean the vectors are very similar,\n",
      "close to 0 means they're orthogonal (unrelated),\n",
      "and close to -1 means they're opposite.\n"
     ]
    },
    {
     "data": {
      "image/png": "[encoded data removed]",
      "text/plain": [
       "<Figure size 1000x600 with 1 Axes>"
      ]
     },
     "metadata": {},
     "output_type": "display_data"
    },
    {
     "name": "stdout",
     "output_type": "stream",
     "text": [
      "\n",
      "Note: In a real application, you would integrate steering vectors into the generation process\n",
      "by modifying the hidden states during inference. This requires custom modifications to the model's\n",
      "forward pass, which is beyond the scope of this notebook.\n"
     ]
    }
   ],
   "source": [
    "def get_model_embedding(text):\n",
    "    \"\"\"Get the embeddings for a given text from the model.\"\"\"\n",
    "    inputs = tokenizer(text, return_tensors=\"pt\").to(model.device)\n",
    "    \n",
    "    with torch.no_grad():\n",
    "        outputs = model(\n",
    "            **inputs,\n",
    "            output_hidden_states=True,\n",
    "            return_dict=True\n",
    "        )\n",
    "    \n",
    "    # Get the last hidden state (representation)\n",
    "    last_hidden_state = outputs.hidden_states[-1][0].mean(dim=0)\n",
    "    return last_hidden_state\n",
    "\n",
    "def create_steering_vector(positive_texts, negative_texts=None):\n",
    "    \"\"\"Create a steering vector from positive and negative examples.\"\"\"\n",
    "    # Get embeddings for positive examples\n",
    "    positive_embeddings = [get_model_embedding(text) for text in positive_texts]\n",
    "    positive_center = torch.stack(positive_embeddings).mean(dim=0)\n",
    "    \n",
    "    # If negative examples are provided, use them to refine the vector\n",
    "    if negative_texts:\n",
    "        negative_embeddings = [get_model_embedding(text) for text in negative_texts]\n",
    "        negative_center = torch.stack(negative_embeddings).mean(dim=0)\n",
    "        \n",
    "        # The steering vector is the difference between positive and negative centers\n",
    "        steering_vector = positive_center - negative_center\n",
    "    else:\n",
    "        steering_vector = positive_center\n",
    "    \n",
    "    # Normalize the vector\n",
    "    steering_vector = steering_vector / torch.norm(steering_vector)\n",
    "    return steering_vector\n",
    "\n",
    "# Create example steering vectors for different styles\n",
    "formal_texts = [\n",
    "    \"I would like to inquire about your availability for a meeting next week.\",\n",
    "    \"The committee has reviewed the proposal and will provide feedback by Friday.\",\n",
    "    \"We respectfully request your attendance at the annual board meeting.\"\n",
    "]\n",
    "\n",
    "informal_texts = [\n",
    "    \"Hey, are you free to chat next week?\",\n",
    "    \"We looked at your idea and we'll let you know what we think by Friday!\",\n",
    "    \"Hope you can make it to our yearly get-together!\"\n",
    "]\n",
    "\n",
    "technical_texts = [\n",
    "    \"The algorithm complexity is O(n log n) in the average case.\",\n",
    "    \"Python's dictionary implementation uses hash tables for efficient lookup.\",\n",
    "    \"The system architecture consists of three primary microservices.\"\n",
    "]\n",
    "\n",
    "creative_texts = [\n",
    "    \"The sunset painted the sky with hues of orange and purple.\",\n",
    "    \"Her laughter echoed through the ancient halls like wind chimes.\",\n",
    "    \"The old oak tree whispered secrets to anyone willing to listen.\"\n",
    "]\n",
    "\n",
    "# Create the steering vectors\n",
    "formal_informal_vector = create_steering_vector(formal_texts, informal_texts)\n",
    "technical_creative_vector = create_steering_vector(technical_texts, creative_texts)\n",
    "\n",
    "print(f\"Formal-Informal steering vector shape: {formal_informal_vector.shape}\")\n",
    "print(f\"Technical-Creative steering vector shape: {technical_creative_vector.shape}\")\n",
    "\n",
    "# Measure cosine similarity between the two vectors\n",
    "cosine_similarity = torch.nn.functional.cosine_similarity(\n",
    "    formal_informal_vector.unsqueeze(0), \n",
    "    technical_creative_vector.unsqueeze(0)\n",
    ").item()\n",
    "\n",
    "print(f\"\\nCosine similarity between vectors: {cosine_similarity:.4f}\")\n",
    "print(\"A value close to 1 would mean the vectors are very similar,\")\n",
    "print(\"close to 0 means they're orthogonal (unrelated),\")\n",
    "print(\"and close to -1 means they're opposite.\")\n",
    "\n",
    "from sklearn.decomposition import PCA\n",
    "\n",
    "# Combine all text examples\n",
    "all_texts = formal_texts + informal_texts + technical_texts + creative_texts\n",
    "all_embeddings = [get_model_embedding(text).cpu().numpy() for text in all_texts]\n",
    "\n",
    "pca = PCA(n_components=2)\n",
    "embeddings_2d = pca.fit_transform(all_embeddings)\n",
    "\n",
    "plt.figure(figsize=(10, 6))\n",
    "plt.scatter(embeddings_2d[:3, 0], embeddings_2d[:3, 1], color='blue', label='Formal')\n",
    "plt.scatter(embeddings_2d[3:6, 0], embeddings_2d[3:6, 1], color='lightblue', label='Informal')\n",
    "plt.scatter(embeddings_2d[6:9, 0], embeddings_2d[6:9, 1], color='red', label='Technical')\n",
    "plt.scatter(embeddings_2d[9:12, 0], embeddings_2d[9:12, 1], color='orange', label='Creative')\n",
    "\n",
    "formal_center = np.mean(embeddings_2d[:3], axis=0)\n",
    "informal_center = np.mean(embeddings_2d[3:6], axis=0)\n",
    "technical_center = np.mean(embeddings_2d[6:9], axis=0)\n",
    "creative_center = np.mean(embeddings_2d[9:12], axis=0)\n",
    "\n",
    "plt.arrow(informal_center[0], informal_center[1], \n",
    "          formal_center[0]-informal_center[0], formal_center[1]-informal_center[1], \n",
    "          head_width=0.02, head_length=0.03, fc='blue', ec='blue', label='Formal direction')\n",
    "\n",
    "plt.arrow(creative_center[0], creative_center[1], \n",
    "          technical_center[0]-creative_center[0], technical_center[1]-creative_center[1], \n",
    "          head_width=0.02, head_length=0.03, fc='red', ec='red', label='Technical direction')\n",
    "\n",
    "plt.title('2D PCA Projection of Text Embeddings and Steering Vectors')\n",
    "plt.xlabel('Principal Component 1')\n",
    "plt.ylabel('Principal Component 2')\n",
    "plt.legend()\n",
    "plt.grid(True)\n",
    "plt.tight_layout()\n",
    "plt.show()\n",
    "\n",
    "print(\"\\nNote: In a real application, you would integrate steering vectors into the generation process\")\n",
    "print(\"by modifying the hidden states during inference. This requires custom modifications to the model's\")\n",
    "print(\"forward pass, which is beyond the scope of this notebook.\")"
   ]
  },
  {
   "cell_type": "code",
   "execution_count": null,
   "id": "988ec209-88c7-4a78-9dc5-b76900552317",
   "metadata": {},
   "outputs": [],
   "source": []
  }
 ],
 "metadata": {
  "kernelspec": {
   "display_name": "Python 3 (ipykernel)",
   "language": "python",
   "name": "python3"
  },
  "language_info": {
   "codemirror_mode": {
    "name": "ipython",
    "version": 3
   },
   "file_extension": ".py",
   "mimetype": "text/x-python",
   "name": "python",
   "nbconvert_exporter": "python",
   "pygments_lexer": "ipython3",
   "version": "3.11.0"
  }
 },
 "nbformat": 4,
 "nbformat_minor": 5
}
